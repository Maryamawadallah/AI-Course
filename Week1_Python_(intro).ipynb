{
  "nbformat": 4,
  "nbformat_minor": 0,
  "metadata": {
    "colab": {
      "provenance": []
    },
    "kernelspec": {
      "name": "python3",
      "display_name": "Python 3"
    },
    "language_info": {
      "name": "python"
    }
  },
  "cells": [
    {
      "cell_type": "markdown",
      "source": [
        "Data Types"
      ],
      "metadata": {
        "id": "_PhUdoJI75Hw"
      }
    },
    {
      "cell_type": "code",
      "execution_count": 50,
      "metadata": {
        "colab": {
          "base_uri": "https://localhost:8080/"
        },
        "id": "VdgmwBDB7tSl",
        "outputId": "1cdafd48-8547-4527-e028-1b70b499e648"
      },
      "outputs": [
        {
          "output_type": "stream",
          "name": "stdout",
          "text": [
            "100\n",
            "3.14\n",
            "python\n",
            "True\n",
            "<class 'int'>\n",
            "<class 'float'>\n",
            "<class 'str'>\n",
            "<class 'bool'>\n"
          ]
        }
      ],
      "source": [
        "score = 100\n",
        "pi_val = 3.14\n",
        "name= 'python'\n",
        "is_active = True\n",
        "print(score)\n",
        "print(pi_val)\n",
        "print(name)\n",
        "print(is_active)\n",
        "\n",
        "print(type(score))\n",
        "print(type(pi_val))\n",
        "print(type(name))\n",
        "print(type(is_active))"
      ]
    },
    {
      "cell_type": "markdown",
      "source": [
        "# **The Print Function**"
      ],
      "metadata": {
        "id": "issPTzXD8TyL"
      }
    },
    {
      "cell_type": "code",
      "source": [
        "item = 'World'\n",
        "count = 42\n",
        "print('Hello',item,'the answer is',count)\n",
        "\n",
        "print(0,end=\" \")\n",
        "print(1,end=\" \")\n",
        "print(2,end=\" \")\n",
        "print(\"<-- No new linw before this\")"
      ],
      "metadata": {
        "colab": {
          "base_uri": "https://localhost:8080/"
        },
        "id": "VBgjEHq68XWv",
        "outputId": "0d2e8bb3-04c5-4f74-cc57-3654f7acdc5c"
      },
      "execution_count": 51,
      "outputs": [
        {
          "output_type": "stream",
          "name": "stdout",
          "text": [
            "Hello World the answer is 42\n",
            "0 1 2 <-- No new linw before this\n"
          ]
        }
      ]
    },
    {
      "cell_type": "markdown",
      "source": [
        "# **User input and Type Conversion**"
      ],
      "metadata": {
        "id": "TzYPB_Hz9C6V"
      }
    },
    {
      "cell_type": "code",
      "source": [
        "age_str =  input(\"Enter your age : \")\n",
        "age_num= int(age_str)\n",
        "next_year = age_num + 1\n",
        "print(\"Next year you will be : \",next_year)"
      ],
      "metadata": {
        "colab": {
          "base_uri": "https://localhost:8080/"
        },
        "id": "50bsYEG69MqZ",
        "outputId": "ff4c3bbf-d83e-40a7-9371-f02a75318d21"
      },
      "execution_count": 52,
      "outputs": [
        {
          "output_type": "stream",
          "name": "stdout",
          "text": [
            "Enter your age : 20\n",
            "Next year you will be :  21\n"
          ]
        }
      ]
    },
    {
      "cell_type": "markdown",
      "source": [
        "# **Conditions and comparison**"
      ],
      "metadata": {
        "id": "zzJFSde09raK"
      }
    },
    {
      "cell_type": "code",
      "source": [
        "score = 100\n",
        "user = \"admin\"\n",
        "is_active = True\n",
        "\n",
        "print(\"Score check : \",score>90)\n",
        "print(\"User check : \",user==\"admin\")\n",
        "print(\"Status check : \",is_active == True)\n",
        "print(\"Name mismatch : \",user != \"Guest\")"
      ],
      "metadata": {
        "colab": {
          "base_uri": "https://localhost:8080/"
        },
        "id": "ZUj0r23B9jIk",
        "outputId": "7d099220-0b8a-478b-c686-67b994c02837"
      },
      "execution_count": 53,
      "outputs": [
        {
          "output_type": "stream",
          "name": "stdout",
          "text": [
            "Score check :  True\n",
            "User check :  True\n",
            "Status check :  True\n",
            "Name mismatch :  True\n"
          ]
        }
      ]
    },
    {
      "cell_type": "markdown",
      "source": [
        "# **Conditional Logic : 'if' , 'elif','else'**"
      ],
      "metadata": {
        "id": "KkvEyBML-UY6"
      }
    },
    {
      "cell_type": "code",
      "source": [
        "direction = \"up\"\n",
        "\n",
        "if direction == \"up\":\n",
        "  print(\"Moving up\")\n",
        "elif direction == \"down\":\n",
        "  print(\"Moving down\")\n",
        "else:\n",
        "  print(\"Staying put\")"
      ],
      "metadata": {
        "colab": {
          "base_uri": "https://localhost:8080/"
        },
        "id": "U77sIeJ0-Sy8",
        "outputId": "429b381a-f027-4bcc-c0b8-244e544a9272"
      },
      "execution_count": 54,
      "outputs": [
        {
          "output_type": "stream",
          "name": "stdout",
          "text": [
            "Moving up\n"
          ]
        }
      ]
    },
    {
      "cell_type": "markdown",
      "source": [
        "# **Lists : Creation and Core Methods**"
      ],
      "metadata": {
        "id": "vy4kEyCu-1ZH"
      }
    },
    {
      "cell_type": "code",
      "source": [
        "items  = [30,10]\n",
        "print(\"Initial:\",items)\n",
        "# add\n",
        "items.append(20)\n",
        "print(\"After appeand:\",items)\n",
        "#Remove\n",
        "items.pop()\n",
        "print(\"After pop:\",items)\n",
        "#Sort\n",
        "items.sort()\n",
        "print(\"After sort:\",items)"
      ],
      "metadata": {
        "colab": {
          "base_uri": "https://localhost:8080/"
        },
        "id": "TMX-_Apq-92i",
        "outputId": "72265b14-9c8d-4754-d2ae-9071843a59d0"
      },
      "execution_count": 55,
      "outputs": [
        {
          "output_type": "stream",
          "name": "stdout",
          "text": [
            "Initial: [30, 10]\n",
            "After appeand: [30, 10, 20]\n",
            "After pop: [30, 10]\n",
            "After sort: [10, 30]\n"
          ]
        }
      ]
    },
    {
      "cell_type": "markdown",
      "source": [
        "# **Membership Operators : 'in' and 'not in '**"
      ],
      "metadata": {
        "id": "o8TcRUN9_rC6"
      }
    },
    {
      "cell_type": "code",
      "source": [
        "my_list = [10,20,30,40]\n",
        "item = 30\n",
        "if item in my_list:\n",
        "  print(\"Element is in the list.\")\n",
        "if 50 not in my_list:\n",
        "  print(\"50 is not in the list\")"
      ],
      "metadata": {
        "colab": {
          "base_uri": "https://localhost:8080/"
        },
        "id": "v__JsoNV_0ML",
        "outputId": "da22ad46-19df-428b-e0cb-6f85646c6c24"
      },
      "execution_count": 56,
      "outputs": [
        {
          "output_type": "stream",
          "name": "stdout",
          "text": [
            "Element is in the list.\n",
            "50 is not in the list\n"
          ]
        }
      ]
    },
    {
      "cell_type": "markdown",
      "source": [
        "# **Nested Lists: Creating 2D Grids **"
      ],
      "metadata": {
        "id": "K6YSH-rCARrk"
      }
    },
    {
      "cell_type": "code",
      "source": [
        "grid = [['A','B','C'],\n",
        "['D','E','F']]\n",
        "\n",
        "# Access the element at row 1, col 2\n",
        "element = grid[1][2]\n",
        "print(element)\n",
        "#Modify an element\n",
        "grid[0][0]='X'\n",
        "print(grid[0])"
      ],
      "metadata": {
        "colab": {
          "base_uri": "https://localhost:8080/"
        },
        "id": "K2wsTaa6APOY",
        "outputId": "7b4f48c7-645c-4b35-981b-6b94f5c78b31"
      },
      "execution_count": 57,
      "outputs": [
        {
          "output_type": "stream",
          "name": "stdout",
          "text": [
            "F\n",
            "['X', 'B', 'C']\n"
          ]
        }
      ]
    },
    {
      "cell_type": "markdown",
      "source": [
        "# **'For'Loops : 'range' and List Iteration**"
      ],
      "metadata": {
        "id": "c6DQRSs_A9qm"
      }
    },
    {
      "cell_type": "code",
      "source": [
        "#Looping with range\n",
        "for i in range(3):\n",
        "  print(f\"looping with i = {i}\")\n",
        "#Looping over a list\n",
        "items = ['A','B']\n",
        "for item in items:\n",
        "  print(\"Processing\", item)\n"
      ],
      "metadata": {
        "colab": {
          "base_uri": "https://localhost:8080/"
        },
        "id": "x7dC6l0ABKjR",
        "outputId": "c54ec33e-d8b8-4b25-8ff2-be992e790099"
      },
      "execution_count": 58,
      "outputs": [
        {
          "output_type": "stream",
          "name": "stdout",
          "text": [
            "looping with i = 0\n",
            "looping with i = 1\n",
            "looping with i = 2\n",
            "Processing A\n",
            "Processing B\n"
          ]
        }
      ]
    },
    {
      "cell_type": "markdown",
      "source": [
        "# **Nested for Loops**"
      ],
      "metadata": {
        "id": "8t1mwr5UB9db"
      }
    },
    {
      "cell_type": "code",
      "source": [
        "data = [['A','B'],\n",
        "        ['C','D']]\n",
        "\n",
        "for row_list in data:\n",
        "  print(\"Row:\",row_list)\n",
        "  for item in row_list:\n",
        "    print(\"Item:\",item)"
      ],
      "metadata": {
        "colab": {
          "base_uri": "https://localhost:8080/"
        },
        "id": "5N5P0wZiCA6S",
        "outputId": "efc48a51-d644-42f0-afca-c412cdba0155"
      },
      "execution_count": 59,
      "outputs": [
        {
          "output_type": "stream",
          "name": "stdout",
          "text": [
            "Row: ['A', 'B']\n",
            "Item: A\n",
            "Item: B\n",
            "Row: ['C', 'D']\n",
            "Item: C\n",
            "Item: D\n"
          ]
        }
      ]
    },
    {
      "cell_type": "markdown",
      "source": [
        "# **Boolean Logic : 'True','False' and 'not'**"
      ],
      "metadata": {
        "id": "hdLuLK1jEzHl"
      }
    },
    {
      "cell_type": "code",
      "source": [
        "is_player_one_turn = True\n",
        "print(is_player_one_turn)\n",
        "is_player_one_turn = not is_player_one_turn\n",
        "print(is_player_one_turn)"
      ],
      "metadata": {
        "colab": {
          "base_uri": "https://localhost:8080/"
        },
        "id": "bV-S6JXYCXs2",
        "outputId": "1438ea96-db61-420d-d869-5cf5b1edf111"
      },
      "execution_count": 60,
      "outputs": [
        {
          "output_type": "stream",
          "name": "stdout",
          "text": [
            "True\n",
            "False\n"
          ]
        }
      ]
    },
    {
      "cell_type": "markdown",
      "source": [
        "# **'While' Loops : Repeating Actions**"
      ],
      "metadata": {
        "id": "apyxZ59MFfla"
      }
    },
    {
      "cell_type": "code",
      "source": [
        "game_active = True\n",
        "score = 0\n",
        "while game_active:\n",
        "  print(\"Current score:\",score)\n",
        "  score+=10\n",
        "  if score > 30:\n",
        "    game_active = False\n",
        "print(\"Game over\")"
      ],
      "metadata": {
        "colab": {
          "base_uri": "https://localhost:8080/"
        },
        "id": "Ot8NoRUtFoA1",
        "outputId": "519def0a-2155-4776-9990-257571331e2d"
      },
      "execution_count": 61,
      "outputs": [
        {
          "output_type": "stream",
          "name": "stdout",
          "text": [
            "Current score: 0\n",
            "Current score: 10\n",
            "Current score: 20\n",
            "Current score: 30\n",
            "Game over\n"
          ]
        }
      ]
    },
    {
      "cell_type": "markdown",
      "source": [
        "# **'While' Loops with Lists**"
      ],
      "metadata": {
        "id": "oiOV-N1UGv58"
      }
    },
    {
      "cell_type": "code",
      "source": [
        "tasks = ['Task A', 'Task B','Task C']\n",
        "while len(tasks)>0:\n",
        "  current_task = tasks.pop(0)\n",
        "  print(\"Completing\",current_task)\n",
        "print(\"All tasks done!\")"
      ],
      "metadata": {
        "colab": {
          "base_uri": "https://localhost:8080/"
        },
        "id": "iUbBX0m9GtSW",
        "outputId": "9cf4d0fd-7f1f-4895-fa8a-202ebee8da3d"
      },
      "execution_count": 62,
      "outputs": [
        {
          "output_type": "stream",
          "name": "stdout",
          "text": [
            "Completing Task A\n",
            "Completing Task B\n",
            "Completing Task C\n",
            "All tasks done!\n"
          ]
        }
      ]
    },
    {
      "cell_type": "markdown",
      "source": [
        "# **Loop Control: The 'break' Statement**"
      ],
      "metadata": {
        "id": "9sPUXJZqHhii"
      }
    },
    {
      "cell_type": "code",
      "source": [
        "numbers = [10,20,30,40,50]\n",
        "target = 30\n",
        "for num in numbers:\n",
        "  if num == target:\n",
        "    print(\"Target\",target,\"found\")\n",
        "    break\n",
        "  else:\n",
        "    print(\"Target not found\")"
      ],
      "metadata": {
        "colab": {
          "base_uri": "https://localhost:8080/"
        },
        "id": "LID_IdWKHpOv",
        "outputId": "cadf35d5-7813-4c91-fcd5-6a86cca6d604"
      },
      "execution_count": 63,
      "outputs": [
        {
          "output_type": "stream",
          "name": "stdout",
          "text": [
            "Target not found\n",
            "Target not found\n",
            "Target 30 found\n"
          ]
        }
      ]
    },
    {
      "cell_type": "markdown",
      "source": [
        "# **Dictionaries : Key-Value Structure**"
      ],
      "metadata": {
        "id": "z__sJmCyH9Ui"
      }
    },
    {
      "cell_type": "code",
      "source": [
        "positions = {'a':(0,0),'b':(0,1)}\n",
        "#Get the value for key 'b'\n",
        "coord = positions['b']\n",
        "print(coord)\n",
        "\n",
        "#check if a key exists\n",
        "if 'c' not in positions:\n",
        "  print(\"Key 'c' doesn't exist.\")"
      ],
      "metadata": {
        "colab": {
          "base_uri": "https://localhost:8080/"
        },
        "id": "1aItqrpSH6jc",
        "outputId": "72e2de60-1546-4511-fe2b-99da148f7718"
      },
      "execution_count": 64,
      "outputs": [
        {
          "output_type": "stream",
          "name": "stdout",
          "text": [
            "(0, 1)\n",
            "Key 'c' doesn't exist.\n"
          ]
        }
      ]
    },
    {
      "cell_type": "markdown",
      "source": [
        "# **Counting Occurrences with a Dictionary**"
      ],
      "metadata": {
        "id": "2lpQTw-6L12c"
      }
    },
    {
      "cell_type": "code",
      "source": [
        "letters = ['a','b','a','c','b','a']\n",
        "count = {}\n",
        "for letter in letters:\n",
        "  count[letter]=count.get(letter,0)+1\n",
        "print(count)"
      ],
      "metadata": {
        "colab": {
          "base_uri": "https://localhost:8080/"
        },
        "id": "qM-F4GVpKzC4",
        "outputId": "db035be7-6d3c-417f-a1f9-bb056136b858"
      },
      "execution_count": 65,
      "outputs": [
        {
          "output_type": "stream",
          "name": "stdout",
          "text": [
            "{'a': 3, 'b': 2, 'c': 1}\n"
          ]
        }
      ]
    },
    {
      "cell_type": "markdown",
      "source": [
        "# **Importing Modules**"
      ],
      "metadata": {
        "id": "ttm8_MXQONmB"
      }
    },
    {
      "cell_type": "code",
      "source": [
        "import random\n",
        "options = ['rock','paper','scissors']\n",
        "computer_choice = random.choice(options)\n",
        "print(\"computer choice :\",computer_choice)"
      ],
      "metadata": {
        "colab": {
          "base_uri": "https://localhost:8080/"
        },
        "id": "j_hUCwXFNevO",
        "outputId": "cf985cd8-3ca0-445e-9f4d-ac76c3b251ed"
      },
      "execution_count": 66,
      "outputs": [
        {
          "output_type": "stream",
          "name": "stdout",
          "text": [
            "computer choice : rock\n"
          ]
        }
      ]
    },
    {
      "cell_type": "markdown",
      "source": [
        "# **Sequence Unpacking**"
      ],
      "metadata": {
        "id": "NZLNh1ZvO-9c"
      }
    },
    {
      "cell_type": "code",
      "source": [
        "points = [(1,2),(3,4)]\n",
        "for point_tuple in points:\n",
        "  x, y = point_tuple\n",
        "  print(f\"x: {x}, y: {y}\")\n",
        "my_point = (100,200)\n",
        "x_val , y_val = my_point\n",
        "print(f\"x: {x_val}, y: {y_val}\")"
      ],
      "metadata": {
        "colab": {
          "base_uri": "https://localhost:8080/"
        },
        "id": "oTOiGC0dPFHf",
        "outputId": "067ba871-8e72-4ea6-f6b9-bb5bc0563038"
      },
      "execution_count": 67,
      "outputs": [
        {
          "output_type": "stream",
          "name": "stdout",
          "text": [
            "x: 1, y: 2\n",
            "x: 3, y: 4\n",
            "x: 100, y: 200\n"
          ]
        }
      ]
    },
    {
      "cell_type": "markdown",
      "source": [
        "# **Functions: Encapsulation Logic**"
      ],
      "metadata": {
        "id": "j5Ioma3KQCGY"
      }
    },
    {
      "cell_type": "code",
      "source": [
        "def greet_user(username):\n",
        "  print(\"Hello,\",username,\"!\")\n",
        "greet_user(\"Alice\")"
      ],
      "metadata": {
        "colab": {
          "base_uri": "https://localhost:8080/"
        },
        "id": "_yPTGjuAQHiB",
        "outputId": "142f5b11-7456-4d5d-d428-c50e30609834"
      },
      "execution_count": 68,
      "outputs": [
        {
          "output_type": "stream",
          "name": "stdout",
          "text": [
            "Hello, Alice !\n"
          ]
        }
      ]
    },
    {
      "cell_type": "markdown",
      "source": [
        "# **Functions : Returning a Value**"
      ],
      "metadata": {
        "id": "0kmQ_X4Da6Ls"
      }
    },
    {
      "cell_type": "code",
      "source": [
        "def add_numbers(a,b):\n",
        "  res = a+b\n",
        "  return res\n",
        "result = add_numbers(10,20)\n",
        "print(result)"
      ],
      "metadata": {
        "colab": {
          "base_uri": "https://localhost:8080/"
        },
        "id": "sUyeR7lnQTTV",
        "outputId": "963334a4-57a0-464c-9a92-21235b62c86d"
      },
      "execution_count": 69,
      "outputs": [
        {
          "output_type": "stream",
          "name": "stdout",
          "text": [
            "30\n"
          ]
        }
      ]
    },
    {
      "cell_type": "markdown",
      "source": [
        "# **The None Data Type**"
      ],
      "metadata": {
        "id": "mK7_3uxfbBjm"
      }
    },
    {
      "cell_type": "code",
      "source": [
        "def find_winner(score):\n",
        "  if score > 100:\n",
        "    return \"Player 1\"\n",
        "  else:\n",
        "    return None\n",
        "winner = find_winner(50)\n",
        "print(winner)"
      ],
      "metadata": {
        "colab": {
          "base_uri": "https://localhost:8080/"
        },
        "id": "xsi0-IAxbeX6",
        "outputId": "daa2932d-276a-4cb3-a41d-42b9efbdeca1"
      },
      "execution_count": 72,
      "outputs": [
        {
          "output_type": "stream",
          "name": "stdout",
          "text": [
            "None\n"
          ]
        }
      ]
    },
    {
      "cell_type": "markdown",
      "source": [
        "# **Practice Exercise**"
      ],
      "metadata": {
        "id": "LHunDhFOb06v"
      }
    },
    {
      "cell_type": "code",
      "source": [
        "def count_items(grid,item):\n",
        "  count = 0\n",
        "  for row in grid:\n",
        "    for element in row:\n",
        "      if element == item:\n",
        "        count+=1\n",
        "  return count\n",
        "print(grid)\n",
        "print(count_items(grid,'E'))\n"
      ],
      "metadata": {
        "colab": {
          "base_uri": "https://localhost:8080/"
        },
        "id": "s0Yob8gAb4UJ",
        "outputId": "f5cf7ca4-433f-4dc2-848e-420e37b172d7"
      },
      "execution_count": 78,
      "outputs": [
        {
          "output_type": "stream",
          "name": "stdout",
          "text": [
            "[['X', 'B', 'C'], ['D', 'E', 'F']]\n",
            "1\n"
          ]
        }
      ]
    },
    {
      "cell_type": "code",
      "source": [
        "grid = [['A','B','A'],\n",
        "        ['C','C','A']]\n",
        "count ={}\n",
        "for row in grid:\n",
        "  for letter in row:\n",
        "    count[letter]=count.get(letter,0)+1\n",
        "  print(count)"
      ],
      "metadata": {
        "colab": {
          "base_uri": "https://localhost:8080/"
        },
        "id": "oYZ7gqyBchAO",
        "outputId": "803d3fa2-32fa-44a1-de8f-27efa511ee11"
      },
      "execution_count": 79,
      "outputs": [
        {
          "output_type": "stream",
          "name": "stdout",
          "text": [
            "{'A': 2, 'B': 1}\n",
            "{'A': 3, 'B': 1, 'C': 2}\n"
          ]
        }
      ]
    },
    {
      "cell_type": "code",
      "source": [
        "while True:\n",
        "  guess = input(\"Guess:\")\n",
        "  if guess == \"7\":\n",
        "    print(\"You got it !\")\n",
        "    break\n",
        "\n"
      ],
      "metadata": {
        "colab": {
          "base_uri": "https://localhost:8080/"
        },
        "id": "IwTTTklHdCc4",
        "outputId": "5b1cc0ce-1d8c-40d3-f977-a339885b4165"
      },
      "execution_count": 81,
      "outputs": [
        {
          "output_type": "stream",
          "name": "stdout",
          "text": [
            "Guess:7\n",
            "You got it !\n"
          ]
        }
      ]
    }
  ]
}